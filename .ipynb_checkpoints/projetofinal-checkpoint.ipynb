{
 "cells": [
  {
   "cell_type": "code",
   "execution_count": 1,
   "id": "a3c8559e",
   "metadata": {},
   "outputs": [],
   "source": [
    "import pandas as pd\n",
    "import os\n",
    "import glob"
   ]
  },
  {
   "cell_type": "code",
   "execution_count": 2,
   "id": "60bf6a3e",
   "metadata": {},
   "outputs": [],
   "source": [
    "ano = '2022'\n",
    "mes = '12'\n",
    "a = 1\n",
    "\n",
    "for a in range(1, 10):\n",
    "    globals()[f\"d{a}\"] = f\"0{a}/{mes}/{ano}\"\n",
    "    for a in range(10, 32):\n",
    "        globals()[f\"d{a}\"] = f\"{a}/{mes}/{ano}\"\n",
    "        a = a + 1"
   ]
  },
  {
   "cell_type": "code",
   "execution_count": 3,
   "id": "d8ce1e5d",
   "metadata": {},
   "outputs": [
    {
     "name": "stderr",
     "output_type": "stream",
     "text": [
      "C:\\Users\\filip\\anaconda3\\lib\\site-packages\\openpyxl\\styles\\stylesheet.py:226: UserWarning: Workbook contains no default style, apply openpyxl's default\n",
      "  warn(\"Workbook contains no default style, apply openpyxl's default\")\n",
      "C:\\Users\\filip\\anaconda3\\lib\\site-packages\\openpyxl\\styles\\stylesheet.py:226: UserWarning: Workbook contains no default style, apply openpyxl's default\n",
      "  warn(\"Workbook contains no default style, apply openpyxl's default\")\n",
      "C:\\Users\\filip\\anaconda3\\lib\\site-packages\\openpyxl\\styles\\stylesheet.py:226: UserWarning: Workbook contains no default style, apply openpyxl's default\n",
      "  warn(\"Workbook contains no default style, apply openpyxl's default\")\n"
     ]
    }
   ],
   "source": [
    "from os import listdir\n",
    "\n",
    "b = 1\n",
    "\n",
    "lista_excel = [file for file in listdir('planilhas')]\n",
    "\n",
    "for arquivo in lista_excel:\n",
    "    globals()[f\"excel_{b}\"] = pd.read_excel(f'planilhas/{arquivo}')\n",
    "    globals()[f\"excel_{b}\"].to_csv (f\"csv/{arquivo}.csv\", index = None, header=True)\n",
    "        "
   ]
  },
  {
   "cell_type": "code",
   "execution_count": 4,
   "id": "e17e0675",
   "metadata": {
    "scrolled": true
   },
   "outputs": [],
   "source": [
    "path = \"csv\"\n",
    "os.chdir(path)\n",
    "all_files = glob.glob('*.csv')\n",
    "\n",
    "i = 1\n",
    "    \n",
    "for file in all_files:\n",
    "    globals()[f\"c{i}\"] = pd.read_csv(file)\n",
    "    globals()[f\"c{i}\"].rename(columns = {'              Produto':'Produto'}, inplace = True)\n",
    "    globals()[f\"c{i}\"].rename(columns = {'Total ':'Total'}, inplace = True)   \n",
    "    globals()[f\"c{i}\"].rename(columns = {'1':d1}, inplace = True)\n",
    "    globals()[f\"c{i}\"].rename(columns = {'2':d2}, inplace = True)\n",
    "    globals()[f\"c{i}\"].rename(columns = {'3':d3}, inplace = True)\n",
    "    globals()[f\"c{i}\"].rename(columns = {'4':d4}, inplace = True)\n",
    "    globals()[f\"c{i}\"].rename(columns = {'5':d5}, inplace = True)\n",
    "    globals()[f\"c{i}\"].rename(columns = {'6':d6}, inplace = True)\n",
    "    globals()[f\"c{i}\"].rename(columns = {'7':d7}, inplace = True)\n",
    "    globals()[f\"c{i}\"].rename(columns = {'8':d8}, inplace = True)\n",
    "    globals()[f\"c{i}\"].rename(columns = {'9':d9}, inplace = True)\n",
    "    globals()[f\"c{i}\"].rename(columns = {'10':d10}, inplace = True)\n",
    "    globals()[f\"c{i}\"].rename(columns = {'11':d11}, inplace = True)\n",
    "    globals()[f\"c{i}\"].rename(columns = {'12':d12}, inplace = True)\n",
    "    globals()[f\"c{i}\"].rename(columns = {'13':d13}, inplace = True)\n",
    "    globals()[f\"c{i}\"].rename(columns = {'14':d14}, inplace = True)\n",
    "    globals()[f\"c{i}\"].rename(columns = {'15':d15}, inplace = True)\n",
    "    globals()[f\"c{i}\"].rename(columns = {'16':d16}, inplace = True)\n",
    "    globals()[f\"c{i}\"].rename(columns = {'17':d17}, inplace = True)\n",
    "    globals()[f\"c{i}\"].rename(columns = {'18':d18}, inplace = True)\n",
    "    globals()[f\"c{i}\"].rename(columns = {'19':d19}, inplace = True)\n",
    "    globals()[f\"c{i}\"].rename(columns = {'20':d20}, inplace = True)\n",
    "    globals()[f\"c{i}\"].rename(columns = {'21':d21}, inplace = True)\n",
    "    globals()[f\"c{i}\"].rename(columns = {'22':d22}, inplace = True)\n",
    "    globals()[f\"c{i}\"].rename(columns = {'23':d23}, inplace = True)\n",
    "    globals()[f\"c{i}\"].rename(columns = {'24':d24}, inplace = True)\n",
    "    globals()[f\"c{i}\"].rename(columns = {'25':d25}, inplace = True)\n",
    "    globals()[f\"c{i}\"].rename(columns = {'26':d26}, inplace = True)\n",
    "    globals()[f\"c{i}\"].rename(columns = {'27':d27}, inplace = True)\n",
    "    globals()[f\"c{i}\"].rename(columns = {'28':d28}, inplace = True)\n",
    "    globals()[f\"c{i}\"].rename(columns = {'29':d29}, inplace = True)\n",
    "    globals()[f\"c{i}\"].rename(columns = {'30':d30}, inplace = True)\n",
    "    globals()[f\"c{i}\"].rename(columns = {'31':d31}, inplace = True)\n",
    "    globals()[f\"c{i}\"]['Código'] = globals()[f\"c{i}\"]['Produto'].str.split('-').str[0]\n",
    "    globals()[f\"c{i}\"]['Produto'] = globals()[f\"c{i}\"]['Produto'].str.split('-').str[1]\n",
    "    globals()[f\"c{i}\"].drop('Grupo', inplace=True, axis=1)\n",
    "    globals()[f\"c{i}\"].drop('Subgrupo', inplace=True, axis=1)\n",
    "    globals()[f\"c{i}\"]['Loja'] = globals()[f\"c{i}\"]['Loja'].str.strip()\n",
    "    globals()[f\"c{i}\"]['Produto'] = globals()[f\"c{i}\"]['Produto'].str.strip()\n",
    "    globals()[f\"c{i}\"]['Código'] = globals()[f\"c{i}\"]['Código'].str.strip()\n",
    "    globals()[f\"c{i}\"] = globals()[f\"c{i}\"][globals()[f\"c{i}\"].Código != 'Produto']\n",
    "    globals()[f\"c{i}\"] = globals()[f\"c{i}\"][globals()[f\"c{i}\"].Código != 'Código']\n",
    "    globals()[f\"c{i}\"]['Código'] = globals()[f\"c{i}\"]['Código'].astype(int)\n",
    "    globals()[f\"c{i}\"]['Total'] = globals()[f\"c{i}\"]['Total'].astype(int)\n",
    "    globals()[f\"c{i}\"] = pd.melt(globals()[f\"c{i}\"], id_vars =['Loja', 'Código', 'Produto', 'Total'], var_name ='Data', value_name ='Quantidade')\n",
    "    globals()[f\"c{i}\"] = globals()[f\"c{i}\"].dropna(axis=0, subset=['Data'])\n",
    "    globals()[f\"c{i}\"] = globals()[f\"c{i}\"][['Loja', 'Data', 'Código', 'Produto', 'Quantidade']]\n",
    "    \n",
    "    globals()[f\"c{i}\"].to_excel (f'../modelos/{file}.xlsx', index = None, header=True)\n",
    "    \n",
    "    globals()[f'nome{i}'] = globals()[f\"c{i}\"]['Loja'][0].split('-')[1]\n",
    "    globals()[f'nome{i}'] = globals()[f'nome{i}'].replace(\" ESPETTO CARIOCA \", \"\")\n",
    "    \n",
    "    globals()[f\"writer{i}\"] = pd.ExcelWriter(f\"{file}.xlsx\")\n",
    "    globals()[f\"c{i}\"].to_excel(globals()[f\"writer{i}\"], sheet_name='sheetName', index=False, na_rep='NaN')\n",
    "    \n",
    "    for column in globals()[f\"c{i}\"]:\n",
    "        column_length = max(globals()[f\"c{i}\"][column].astype(str).map(len).max(), len(column))\n",
    "        col_idx = globals()[f\"c{i}\"].columns.get_loc(column)\n",
    "        globals()[f\"writer{i}\"].sheets['sheetName'].set_column(col_idx, col_idx, column_length)\n",
    "    globals()[f\"writer{i}\"].save()\n",
    "    i = i + 1"
   ]
  },
  {
   "cell_type": "code",
   "execution_count": 5,
   "id": "adba7f27",
   "metadata": {},
   "outputs": [
    {
     "name": "stdout",
     "output_type": "stream",
     "text": [
      "C:\\Users\\filip\\projeto\n"
     ]
    }
   ],
   "source": [
    "cd .."
   ]
  },
  {
   "cell_type": "code",
   "execution_count": 6,
   "id": "87fc3f92",
   "metadata": {},
   "outputs": [],
   "source": [
    "import os\n",
    "\n",
    "dir_name = \"csv\"\n",
    "test = os.listdir(dir_name)\n",
    "\n",
    "for item in test:\n",
    "    if item.endswith(\".csv\"):\n",
    "        os.remove(os.path.join(dir_name, item))"
   ]
  }
 ],
 "metadata": {
  "kernelspec": {
   "display_name": "Python 3 (ipykernel)",
   "language": "python",
   "name": "python3"
  },
  "language_info": {
   "codemirror_mode": {
    "name": "ipython",
    "version": 3
   },
   "file_extension": ".py",
   "mimetype": "text/x-python",
   "name": "python",
   "nbconvert_exporter": "python",
   "pygments_lexer": "ipython3",
   "version": "3.9.13"
  }
 },
 "nbformat": 4,
 "nbformat_minor": 5
}
